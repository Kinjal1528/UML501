{
  "metadata": {
    "kernelspec": {
      "name": "python",
      "display_name": "Python (Pyodide)",
      "language": "python"
    },
    "language_info": {
      "codemirror_mode": {
        "name": "python",
        "version": 3
      },
      "file_extension": ".py",
      "mimetype": "text/x-python",
      "name": "python",
      "nbconvert_exporter": "python",
      "pygments_lexer": "ipython3",
      "version": "3.8"
    }
  },
  "nbformat_minor": 5,
  "nbformat": 4,
  "cells": [
    {
      "id": "75084425-df9d-46ba-bd58-6069c2340ed1",
      "cell_type": "markdown",
      "source": "Assignment-1 \nBased on NumPy ",
      "metadata": {}
    },
    {
      "id": "b9cd0cd5-99a3-4757-aa25-2b01b4c86452",
      "cell_type": "markdown",
      "source": "Q1: Questions on Basic NumPy Array ",
      "metadata": {}
    },
    {
      "id": "9e48d438-932b-4352-92e2-d97e3520057c",
      "cell_type": "raw",
      "source": "(a) Reverse the NumPy array: arr = np.array([1, 2, 3, 6, 4, 5])",
      "metadata": {}
    },
    {
      "id": "9ee9f892-e603-4f8f-8dd8-8d7ad8f39e89",
      "cell_type": "code",
      "source": "import numpy as np\narr = np.array([1, 2, 3, 6, 4, 5])\n# print(arr[::-1])\nnp.flip(arr)",
      "metadata": {
        "trusted": true
      },
      "outputs": [
        {
          "execution_count": 1,
          "output_type": "execute_result",
          "data": {
            "text/plain": "array([5, 4, 6, 3, 2, 1])"
          },
          "metadata": {}
        }
      ],
      "execution_count": 1
    },
    {
      "id": "44ae08f2-238f-4b35-8248-8d9d4c7a14c3",
      "cell_type": "raw",
      "source": "(b) Flatten the NumPy arr: array1 = np.array([[1, 2, 3], [2, 4, 5], [1, 2, 3]]) using any two NumPy in-built methods ",
      "metadata": {}
    },
    {
      "id": "7fbc8c87-b06f-4bbb-966a-b0fcd47e0dbe",
      "cell_type": "code",
      "source": "array1 = np.array([[1, 2, 3], [2, 4, 5], [1, 2, 3]])\n\narray2 = array1.reshape((1, 9))\nprint(\"Reshaped array:\", array2)\n\narray3 = array1.flatten()\nprint(\"Flattened with flatten():\", array3)\n\narray4 = array1.ravel()\nprint(\"Flattened with ravel():\", array4)\n",
      "metadata": {
        "trusted": true
      },
      "outputs": [
        {
          "name": "stdout",
          "output_type": "stream",
          "text": "Reshaped array: [[1 2 3 2 4 5 1 2 3]]\nFlattened with flatten(): [1 2 3 2 4 5 1 2 3]\nFlattened with ravel(): [1 2 3 2 4 5 1 2 3]\n"
        }
      ],
      "execution_count": 2
    },
    {
      "id": "ad8a722b-4ca1-419b-8925-01445cfa6300",
      "cell_type": "raw",
      "source": "(c) Compare the following numpy arrays: \narr1 = np.array([[1, 2], [3, 4]]) \narr2 = np.array([[1, 2], [3, 4]]) ",
      "metadata": {}
    },
    {
      "id": "1902c95b-132a-4082-9fbe-4d9aef9998c4",
      "cell_type": "code",
      "source": "arr1 = np.array([[1, 2], [3, 4]]) \narr2 = np.array([[1, 2], [3, 4]]) \n# np.array_equal(arr1, arr2)\nnp.allclose(arr1, arr2)",
      "metadata": {
        "trusted": true
      },
      "outputs": [
        {
          "execution_count": 3,
          "output_type": "execute_result",
          "data": {
            "text/plain": "True"
          },
          "metadata": {}
        }
      ],
      "execution_count": 3
    },
    {
      "id": "fade5443-f828-4649-86a0-2ed0e4e91ca3",
      "cell_type": "raw",
      "source": "(d) Find the most frequent value and their indice(s) in the following arrays: \ni. x = np.array([1,2,3,4,5,1,2,1,1,1]) ",
      "metadata": {}
    },
    {
      "id": "33338ed9-cf6b-4575-86ca-533cd6b8c3e8",
      "cell_type": "code",
      "source": "import numpy as np\nx = np.array([1,2,3,4,5,1,2,1,1,1]) \nprint(np.bincount(x).argmax())",
      "metadata": {
        "trusted": true
      },
      "outputs": [
        {
          "name": "stdout",
          "output_type": "stream",
          "text": "1\n"
        }
      ],
      "execution_count": 4
    },
    {
      "id": "bd29a1d1-cc22-49b6-a356-41b7de8a3d5b",
      "cell_type": "raw",
      "source": "(d) ii. y = np.array([1, 1, 1, 2, 3, 4, 2, 4, 3, 3, ])",
      "metadata": {}
    },
    {
      "id": "dd914846-442a-4a1b-904f-1761e4660bf1",
      "cell_type": "code",
      "source": "y = np.array([1, 1, 1, 2, 3, 4, 2, 4, 3, 3, ])\nmax_y=np.bincount(y)\nmaximum=max(max_y)\n\nfor i in range (len(max_y)):\n    if max_y[i]==maximum:\n        print (i, end = \" \")",
      "metadata": {
        "trusted": true
      },
      "outputs": [
        {
          "name": "stdout",
          "output_type": "stream",
          "text": "1 3 "
        }
      ],
      "execution_count": 5
    },
    {
      "id": "278ba2a7-f8ab-48e5-b9e3-aa0fea53bf86",
      "cell_type": "raw",
      "source": "(d) ii. z=np.array([-1, -1, 2, 3, -1, 2, 3, 3])",
      "metadata": {}
    },
    {
      "id": "c057566b-68c3-4c6f-829f-09e91f7e2160",
      "cell_type": "code",
      "source": "z=np.array([-1, -1, 2, 3, -1, 2, 3, 3])\nvalues,counts=np.unique(z,return_counts=True)\nmaximum=max(counts)\nfor i in range (len(values)):\n    if(maximum==counts[i]):\n        print(values[i],end=\" \")",
      "metadata": {
        "trusted": true
      },
      "outputs": [
        {
          "name": "stdout",
          "output_type": "stream",
          "text": "-1 3 "
        }
      ],
      "execution_count": 6
    },
    {
      "id": "cd542e70-e445-4349-9049-72c01c7f1e37",
      "cell_type": "raw",
      "source": "(e) For the array gfg = np.matrix('[4, 1, 9; 12, 3, 1; 4, 5, 6]'), find \ni. Sum of all elements \nii. Sum of all elements row-wise  \niii. Sum of all elements column-wise ",
      "metadata": {}
    },
    {
      "id": "00afc9f2-4354-47b9-9072-be5838052879",
      "cell_type": "code",
      "source": "gfg = np.matrix('[4, 1, 9; 12, 3, 1; 4, 5, 6]')\nprint(f\"The sum of all elements is:{np.sum(gfg)}\")\nprint(\"\\nSum of each row:\")\nprint(np.sum(gfg,axis=1))\nprint(f\"\\nSum of each column :{np.sum(gfg,axis=0)}\")",
      "metadata": {
        "trusted": true
      },
      "outputs": [
        {
          "name": "stdout",
          "output_type": "stream",
          "text": "The sum of all elements is:45\n\nSum of each row:\n[[14]\n [16]\n [15]]\n\nSum of each column :[[20  9 16]]\n"
        }
      ],
      "execution_count": 7
    },
    {
      "id": "cc8625ed-6832-4626-9570-069cf06f1928",
      "cell_type": "raw",
      "source": "(f) For the matrix: n_array = np.array([[55, 25, 15],[30, 44, 2],[11, 45, 77]]), find \ni. Sum of diagonal elements \nii. Eigenvalues of a matrix\niii. Eigenvectors of a matrix \niv. Inverse of a matrix \nv. Determinant of a matrix",
      "metadata": {}
    },
    {
      "id": "2ea33a22-9263-4945-8855-3d5974c2be5a",
      "cell_type": "code",
      "source": "n_array = np.array([[55, 25, 15],[30, 44, 2],[11, 45, 77]])\ndiag= np.diagonal(n_array)\nprint(f\"\\n i.Diagonal elements :{diag}\")\nprint(f\"\\n Sum of diagonal elements :{sum(diag)}\")\nprint(f\"\\n Sum of diagonal elements :{np.trace(n_array)}\")\nprint(f\"\\n ii., iii. Eigenvalues, Eigenvectors of a matrix :\")\nprint(f\"\\n{np.linalg.eig(n_array)}\")\nprint(f\"\\n iv. Inverse of a matrix :{np.linalg.inv(n_array)}\")\nprint(f\"\\n v. Determinant of a matrix :{np.linalg.det(n_array)}\")",
      "metadata": {
        "trusted": true
      },
      "outputs": [
        {
          "name": "stdout",
          "output_type": "stream",
          "text": "\n i.Diagonal elements :[55 44 77]\n\n Sum of diagonal elements :176\n\n Sum of diagonal elements :176\n\n ii., iii. Eigenvalues, Eigenvectors of a matrix :\n\nEigResult(eigenvalues=array([28.097044  , 49.73460452, 98.16835147]), eigenvectors=array([[-0.34637121,  0.15017693,  0.4574917 ],\n       [ 0.72784061,  0.4852124 ,  0.28447814],\n       [-0.59184038, -0.8614034 ,  0.84248058]]))\n\n iv. Inverse of a matrix :[[ 0.02404141 -0.00911212 -0.00444671]\n [-0.01667882  0.02966905  0.0024785 ]\n [ 0.00631287 -0.01603732  0.01217379]]\n\n v. Determinant of a matrix :137180.0000000001\n"
        }
      ],
      "execution_count": 8
    },
    {
      "id": "a9db7ce2-f981-429b-8be2-0b3aab66ae2d",
      "cell_type": "raw",
      "source": "(g) Multiply the following matrices and also find the covariance between matrices using NumPy: \ni. p = [[1, 2], [2, 3]] \nq = [[4, 5], [6, 7]] \nii. p = [[1, 2], [2, 3], [4, 5]] \nq = [[4, 5, 1], [6, 7, 2]]",
      "metadata": {}
    },
    {
      "id": "2d943b80-1cd5-4fcd-83c2-4bd2b7d3672b",
      "cell_type": "code",
      "source": "# (i.)\nimport numpy as np\np = [[1, 2], [2, 3]] \nq = [[4, 5], [6, 7]] \nmultiplication= np.matmul(p,q)\nprint(f\" The product of matrix p and q is {multiplication}\")\n# We cannot have one covariance for 2 different matrices, so we combine them first \ncombine=np.vstack((p,q))\ncovar=np.cov(combine.T)#transpose we have taken to get variables in a row.\nprint(f\" The covariance of combined matrix p and q is {covar}\")",
      "metadata": {
        "trusted": true
      },
      "outputs": [
        {
          "name": "stdout",
          "output_type": "stream",
          "text": " The product of matrix p and q is [[16 19]\n [26 31]]\n The covariance of combined matrix p and q is [[4.91666667 4.91666667]\n [4.91666667 4.91666667]]\n"
        }
      ],
      "execution_count": 9
    },
    {
      "id": "aae8b3ed-fc4a-43d2-846e-24a9f0a42343",
      "cell_type": "code",
      "source": "# (ii.)\np1 = np.array([[1, 2], [2, 3], [4, 5]]) \nq1 = np.array([[4, 5, 1], [6, 7, 2]])\nmultip=np.matmul(p1,q1) #This is not element-wise multiplication, it's dot product-based matrix multiplication.\n# formula used by matmul: multip[i][j] = sum(p1[i][k] * q1[k][j] for k in range(n))\nprint(f\" The product of matrix p1 and q1 is {multip}\")\ncombined=np.hstack((p1, q1.T))\ncovariance=np.cov(combined.T)\nprint(f\" The covariance of combined matrix p1 and q1 is {covariance}\")",
      "metadata": {
        "trusted": true
      },
      "outputs": [
        {
          "name": "stdout",
          "output_type": "stream",
          "text": " The product of matrix p1 and q1 is [[16 19  5]\n [26 31  8]\n [46 55 14]]\n The covariance of combined matrix p1 and q1 is [[ 2.33333333  2.33333333 -2.66666667 -3.5       ]\n [ 2.33333333  2.33333333 -2.66666667 -3.5       ]\n [-2.66666667 -2.66666667  4.33333333  5.5       ]\n [-3.5        -3.5         5.5         7.        ]]\n"
        }
      ],
      "execution_count": 10
    },
    {
      "id": "6e86d0ae-4433-4929-bcad-2e652312778f",
      "cell_type": "raw",
      "source": "(h) For the matrices: x = np.array([[2, 3, 4], [3, 2, 9]]); y = np.array([[1, 5, 0], [5, 10, 3]]), \nfind inner, outer and cartesian product?",
      "metadata": {}
    },
    {
      "id": "a073daab-39a0-4fbb-98f9-5f18fdc15e80",
      "cell_type": "code",
      "source": "x = np.array([[2, 3, 4], [3, 2, 9]])\ny = np.array([[1, 5, 0], [5, 10, 3]])\n#dot product: inner product\n# Method 1 for inner multiplication\ny_t=y.T\nmul1= x @ y_t\n# Method 1 for inner multiplication\nmul2=np.matmul(x,y_t)\nprint(f\"The result for inner product from method 1 and method 2 is {mul1},{mul2} respectively\")\n# Outer multiplication means a matrix is produced by multiplying each element of x by all elements of y.\noutMul=np.outer(x,y)\nprint(f\"The result for outer product is {outMul}\")\n#Cartesian product creates all combinations of rows from matrix A and matrix B.\nfrom itertools import product\ncartesian_product = [np.hstack((a, b)) for a, b in product(x, y)]\nresult = np.array(cartesian_product)\nprint(f\"The result for cartesian product is {result}\")",
      "metadata": {
        "trusted": true
      },
      "outputs": [
        {
          "name": "stdout",
          "output_type": "stream",
          "text": "The result for inner product from method 1 and method 2 is [[17 52]\n [13 62]],[[17 52]\n [13 62]] respectively\nThe result for outer product is [[ 2 10  0 10 20  6]\n [ 3 15  0 15 30  9]\n [ 4 20  0 20 40 12]\n [ 3 15  0 15 30  9]\n [ 2 10  0 10 20  6]\n [ 9 45  0 45 90 27]]\nThe result for cartesian product is [[ 2  3  4  1  5  0]\n [ 2  3  4  5 10  3]\n [ 3  2  9  1  5  0]\n [ 3  2  9  5 10  3]]\n"
        }
      ],
      "execution_count": 11
    },
    {
      "id": "446358c1-3078-43cd-b80e-cdda73d67854",
      "cell_type": "markdown",
      "source": "Q2: Based on NumPy Mathematics and Statistics",
      "metadata": {}
    },
    {
      "id": "1a3e3db7-d4e4-4eca-af20-82b3e09891ec",
      "cell_type": "raw",
      "source": "(a)For the array: array = np.array([[1, -2, 3],[-4, 5, -6]])\ni. Find element-wise absolute value\nii. Find the 25th, 50th, and 75th percentiles of the flattened array, for each column, for each row. \niii. Mean, Median, and Standard Deviation of flattened array, of each column, and \neach row ",
      "metadata": {}
    },
    {
      "id": "690b3c20-c3e7-4cc8-8b42-d57b3c669147",
      "cell_type": "code",
      "source": "import numpy as np\nprint(\"i.\")\narray = np.array([[1, -2, 3],[-4, 5, -6]])\nAbsolute=np.abs(array)\nprint(f\"The element-wise absolute value of array is: {Absolute}\")\n\nprint(\"\\n ii.\")\nprint(\"(a). for flattened array\")\nflat=array.flatten()\np25_flat = np.percentile(flat, 25)\np50_flat = np.percentile(flat, 50)  # same as median\np75_flat = np.percentile(flat, 75)\nprint(f\"Flattened array percentiles (25, 50, 75): {p25_flat}, {p50_flat}, and {p75_flat}\")\n\nprint(\"\\n (b). for columns\")\np_col = np.percentile(array, [25, 50, 75], axis=0)\nprint(f\"Percentiles (columns):{p_col}\")\n\nprint(\"\\n (c). for rows\")\np_row = np.percentile(array, [25, 50, 75], axis=1)\nprint(f\"Percentiles (columns):{p_row}\")\n\nprint(\"\\n iii.\")\nprint(\"(a). for flattened array\")\nprint(f\"\\n The Mean, Median, and Standard Deviation of flattened array: {np.mean(flat)}, {np.median(flat)},and {np.std(flat)}\")\n\nprint(\"\\n (b). for columns\")\nprint(f\"\\n The Mean, Median, and Standard Deviation of columns: {np.mean(array,axis=0)}, {np.median(array,axis=0)},and {np.std(array,axis=0)}\")\n\nprint(\"\\n (c). for rows\")\nprint(f\"\\n The Mean, Median, and Standard Deviation of rows: {np.mean(array,axis=1)}, {np.median(array,axis=1)},and {np.std(array,axis=1)}\")\n",
      "metadata": {
        "trusted": true
      },
      "outputs": [
        {
          "name": "stdout",
          "output_type": "stream",
          "text": "i.\nThe element-wise absolute value of array is: [[1 2 3]\n [4 5 6]]\n\n ii.\n(a). for flattened array\nFlattened array percentiles (25, 50, 75): -3.5, -0.5, and 2.5\n\n (b). for columns\nPercentiles (columns):[[-2.75 -0.25 -3.75]\n [-1.5   1.5  -1.5 ]\n [-0.25  3.25  0.75]]\n\n (c). for rows\nPercentiles (columns):[[-0.5 -5. ]\n [ 1.  -4. ]\n [ 2.   0.5]]\n\n iii.\n(a). for flattened array\n\n The Mean, Median, and Standard Deviation of flattened array: -0.5, -0.5,and 3.8622100754188224\n\n (b). for columns\n\n The Mean, Median, and Standard Deviation of columns: [-1.5  1.5 -1.5], [-1.5  1.5 -1.5],and [2.5 3.5 4.5]\n\n (c). for rows\n\n The Mean, Median, and Standard Deviation of rows: [ 0.66666667 -1.66666667], [ 1. -4.],and [2.05480467 4.78423336]\n"
        }
      ],
      "execution_count": 12
    },
    {
      "id": "42adc106-86a7-41c0-b1c6-2b5207337ee9",
      "cell_type": "markdown",
      "source": "Q3: Based on Searching and Sorting ",
      "metadata": {}
    },
    {
      "id": "ef3afb63-182c-4184-a2f0-347fbb4cc6b9",
      "cell_type": "raw",
      "source": "(a) For the array: array = np.array([10, 52, 62, 16, 16, 54, 453]), find\ni. Sorted array \nii. Indices of sorted array \niii. 4 smallest elements \niv. 5 largest elements ",
      "metadata": {}
    },
    {
      "id": "a533db03-31cd-4ca5-9326-0a1aa328fbd3",
      "cell_type": "code",
      "source": "print(\"(a)\")\nprint(\"i.\",end=\" \")\narray = np.array([10, 52, 62, 16, 16, 54, 453])\nsorted=np.sort(array)\nprint(f\"The sorted array is: {sorted}\")\nprint(\"\\nii.\",end=\" \")\nprint(f\"The indices of sorted array are: {np.argsort(array)}\")\n\nprint(\"\\niii.\",end=\" \")\nprint(f\"The 4 smallest elements are: {sorted[0:4]}\")\n\n# print(\"\\niv.\",end=\" \")\n# print(f\"The 5 largest elemets are: {sorted[-6:-1]}\")\n#with upper last wala element is not coming, why?\n# Correct Way:\n#print(f\"The 5 largest elemets are: {sorted[-5:]}\")\nprint(\"\\niv.\",end=\" \")\nprint(f\"The 5 largest elemets are: {sorted[-5:][::-1]}\")",
      "metadata": {
        "trusted": true
      },
      "outputs": [
        {
          "name": "stdout",
          "output_type": "stream",
          "text": "(a)\ni. The sorted array is: [ 10  16  16  52  54  62 453]\n\nii. The indices of sorted array are: [0 3 4 1 5 2 6]\n\niii. The 4 smallest elements are: [10 16 16 52]\n\niv. The 5 largest elemets are: [453  62  54  52  16]\n"
        }
      ],
      "execution_count": 13
    },
    {
      "id": "6bb29459-1383-4193-a55d-c2a796ed8ddc",
      "cell_type": "raw",
      "source": "(b) For the array: array = np.array([1.0, 1.2, 2.2, 2.0, 3.0, 2.0]), find\ni. Integer elements only \nii. Float elements only",
      "metadata": {}
    },
    {
      "id": "181d6720-e7a6-434e-ad7f-43dd3288417d",
      "cell_type": "code",
      "source": "print(\"(b)\")\narray = np.array([1.0, 1.2, 2.2, 2.0, 3.0, 2.0])\n#method 1\nprint (\"i.\",end=\" \")\ninteger= array[array == array.astype(int)]\nprint(f\"The interger elements are: {integer}\")\n\ninteger_elements = array[np.equal(np.mod(array, 1), 0)]\nprint(\"i. Integer elements only:\", integer_elements)\n\n# print (\"ii.\",end=\" \")                       _\n# floa= array[array == array.astype(float)]    |- Wrong\n# print(f\"The interger elements are: {floa}\") _\n\nfloat_elements = array[np.mod(array, 1) != 0]\nprint(\"ii. Float elements only:\", float_elements)",
      "metadata": {
        "trusted": true
      },
      "outputs": [
        {
          "name": "stdout",
          "output_type": "stream",
          "text": "(b)\ni. The interger elements are: [1. 2. 3. 2.]\ni. Integer elements only: [1. 2. 3. 2.]\nii. Float elements only: [1.2 2.2]\n"
        }
      ],
      "execution_count": 14
    },
    {
      "id": "cddc796d-0f4a-443d-a874-0e443b7d3665",
      "cell_type": "raw",
      "source": "4. (a) Write a function named img_to_array(path) that reads an image from a specified path and save it as text file on local machine? (Note: use separate cases for RGB and Grey Scale images) ",
      "metadata": {}
    },
    {
      "id": "e2bd9b36-173a-4846-983c-e945c130c56e",
      "cell_type": "code",
      "source": "(b) Load the saved file into jupyter notebook?\n\n# tried a lot not able to solve these two, will try again after asking doubt ",
      "metadata": {
        "trusted": true
      },
      "outputs": [],
      "execution_count": null
    }
  ]
}