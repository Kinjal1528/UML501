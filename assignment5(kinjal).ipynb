{
 "cells": [
  {
   "cell_type": "code",
   "execution_count": 2,
   "id": "8956b044-cfc1-4c1c-84b2-585b18e5d9e3",
   "metadata": {},
   "outputs": [
    {
     "name": "stdout",
     "output_type": "stream",
     "text": [
      "Best learning rate: 0.1\n",
      "Best lambda: 1e-10\n",
      "Min cost: 1.1414133408104115\n",
      "Max R²: 0.62307632731881\n"
     ]
    },
    {
     "name": "stderr",
     "output_type": "stream",
     "text": [
      "/var/folders/nw/lnw4spfn70d50s0d4wxwldxr0000gn/T/ipykernel_34182/1654933623.py:28: RuntimeWarning: overflow encountered in dot\n",
      "  dw = (-2/m) * X.T.dot(y - y_pred) + 2 * lam * weights\n"
     ]
    }
   ],
   "source": [
    "import numpy as np\n",
    "import pandas as pd\n",
    "from sklearn.model_selection import train_test_split\n",
    "from sklearn.metrics import r2_score\n",
    "from sklearn.preprocessing import StandardScaler\n",
    "\n",
    "# 1️⃣ Generate correlated dataset\n",
    "np.random.seed(42)\n",
    "n_samples = 500\n",
    "X = np.random.rand(n_samples, 7)\n",
    "y = 5*X[:,0] + 3*X[:,1] + 2*X[:,2] + np.random.randn(n_samples)*0.3\n",
    "for i in range(1, 7):\n",
    "    X[:, i] = X[:, 0] + np.random.normal(0, 0.05, n_samples)\n",
    "\n",
    "# Normalize features (important!)\n",
    "scaler = StandardScaler()\n",
    "X = scaler.fit_transform(X)\n",
    "\n",
    "X_train, X_test, y_train, y_test = train_test_split(X, y, test_size=0.2, random_state=42)\n",
    "\n",
    "# 2️⃣ Ridge Regression (gradient descent)\n",
    "def ridge_regression(X, y, lr, lam, epochs=2000):\n",
    "    m, n = X.shape\n",
    "    weights = np.zeros(n)\n",
    "    bias = 0.0\n",
    "    for epoch in range(epochs):\n",
    "        y_pred = X.dot(weights) + bias\n",
    "        dw = (-2/m) * X.T.dot(y - y_pred) + 2 * lam * weights\n",
    "        db = (-2/m) * np.sum(y - y_pred)\n",
    "        weights -= lr * dw\n",
    "        bias -= lr * db\n",
    "        \n",
    "        # stop if weights explode\n",
    "        if np.any(np.isnan(weights)) or np.any(np.isinf(weights)):\n",
    "            return np.zeros(n), 0.0\n",
    "    return weights, bias\n",
    "\n",
    "def cost_function(X, y, weights, bias, lam):\n",
    "    y_pred = X.dot(weights) + bias\n",
    "    mse = np.mean((y - y_pred)**2)\n",
    "    reg = lam * np.sum(weights**2)\n",
    "    return mse + reg\n",
    "\n",
    "# 3️⃣ Tune parameters\n",
    "lrs = [0.0001, 0.001, 0.01, 0.1]\n",
    "lambdas = [1e-10, 1e-5, 1e-3, 0.1, 1, 10]\n",
    "\n",
    "best_r2, best_params = -999, None\n",
    "\n",
    "for lr in lrs:\n",
    "    for lam in lambdas:\n",
    "        w, b = ridge_regression(X_train, y_train, lr, lam)\n",
    "        y_pred = X_test.dot(w) + b\n",
    "        if np.any(np.isnan(y_pred)):\n",
    "            continue\n",
    "        cost = cost_function(X_train, y_train, w, b, lam)\n",
    "        r2 = r2_score(y_test, y_pred)\n",
    "        if r2 > best_r2:\n",
    "            best_r2, best_params = r2, (lr, lam, cost)\n",
    "\n",
    "print(\"Best learning rate:\", best_params[0])\n",
    "print(\"Best lambda:\", best_params[1])\n",
    "print(\"Min cost:\", best_params[2])\n",
    "print(\"Max R²:\", best_r2)\n"
   ]
  },
  {
   "cell_type": "code",
   "execution_count": 5,
   "id": "91fb71b2-2dc6-4633-b9f2-6d9031218b8f",
   "metadata": {},
   "outputs": [
    {
     "name": "stdout",
     "output_type": "stream",
     "text": [
      "Linear → R²: 0.290, MSE: 128431.59\n",
      "Ridge → R²: 0.298, MSE: 126891.79\n",
      "Lasso → R²: 0.298, MSE: 126974.95\n"
     ]
    },
    {
     "name": "stderr",
     "output_type": "stream",
     "text": [
      "/opt/miniconda3/lib/python3.13/site-packages/sklearn/linear_model/_coordinate_descent.py:695: ConvergenceWarning: Objective did not converge. You might want to increase the number of iterations, check the scale of the features or consider increasing regularisation. Duality gap: 1.248e+04, tolerance: 4.367e+03\n",
      "  model = cd_fast.enet_coordinate_descent(\n"
     ]
    }
   ],
   "source": [
    "import pandas as pd\n",
    "from sklearn.model_selection import train_test_split\n",
    "from sklearn.preprocessing import StandardScaler, LabelEncoder\n",
    "from sklearn.linear_model import LinearRegression, Ridge, Lasso\n",
    "from sklearn.metrics import mean_squared_error, r2_score\n",
    "\n",
    "# ✅ Working dataset URL\n",
    "url = \"https://raw.githubusercontent.com/JWarmenhoven/ISLR-python/master/Notebooks/Data/Hitters.csv\"\n",
    "data = pd.read_csv(url)\n",
    "\n",
    "# (a) Handle nulls and categorical encoding\n",
    "data = data.dropna()\n",
    "for col in data.select_dtypes(include=['object']).columns:\n",
    "    le = LabelEncoder()\n",
    "    data[col] = le.fit_transform(data[col])\n",
    "\n",
    "# (b) Separate input and output, and scale features\n",
    "X = data.drop('Salary', axis=1)\n",
    "y = data['Salary']\n",
    "\n",
    "scaler = StandardScaler()\n",
    "X_scaled = scaler.fit_transform(X)\n",
    "\n",
    "X_train, X_test, y_train, y_test = train_test_split(X_scaled, y, test_size=0.2, random_state=42)\n",
    "\n",
    "# (c) Fit models\n",
    "lin = LinearRegression().fit(X_train, y_train)\n",
    "ridge = Ridge(alpha=0.5748).fit(X_train, y_train)\n",
    "lasso = Lasso(alpha=0.5748).fit(X_train, y_train)\n",
    "\n",
    "# (d) Evaluate\n",
    "models = {'Linear': lin, 'Ridge': ridge, 'Lasso': lasso}\n",
    "for name, model in models.items():\n",
    "    y_pred = model.predict(X_test)\n",
    "    print(f\"{name} → R²: {r2_score(y_test, y_pred):.3f}, MSE: {mean_squared_error(y_test, y_pred):.2f}\")\n"
   ]
  },
  {
   "cell_type": "code",
   "execution_count": 7,
   "id": "cf2dd875-bb74-40ed-ad7f-1ac80974024a",
   "metadata": {},
   "outputs": [
    {
     "name": "stdout",
     "output_type": "stream",
     "text": [
      "RidgeCV Best Alpha: 1.0\n",
      "RidgeCV R²: 0.576\n",
      "RidgeCV MSE: 0.556\n",
      "\n",
      "LassoCV Best Alpha: 0.01\n",
      "LassoCV R²: 0.582\n",
      "LassoCV MSE: 0.548\n",
      "\n"
     ]
    }
   ],
   "source": [
    "from sklearn.datasets import fetch_california_housing\n",
    "from sklearn.linear_model import RidgeCV, LassoCV\n",
    "from sklearn.model_selection import train_test_split\n",
    "from sklearn.preprocessing import StandardScaler\n",
    "from sklearn.metrics import r2_score, mean_squared_error\n",
    "\n",
    "# Load dataset (modern replacement for Boston)\n",
    "data = fetch_california_housing()\n",
    "X, y = data.data, data.target\n",
    "\n",
    "# Scale features\n",
    "scaler = StandardScaler()\n",
    "X_scaled = scaler.fit_transform(X)\n",
    "\n",
    "# Train-test split\n",
    "X_train, X_test, y_train, y_test = train_test_split(X_scaled, y, test_size=0.2, random_state=42)\n",
    "\n",
    "# RidgeCV and LassoCV\n",
    "ridge_cv = RidgeCV(alphas=[0.01, 0.1, 1, 10, 100]).fit(X_train, y_train)\n",
    "lasso_cv = LassoCV(alphas=[0.01, 0.1, 1, 10, 100], max_iter=10000, cv=5).fit(X_train, y_train)\n",
    "\n",
    "# Evaluate models\n",
    "for name, model in {\"RidgeCV\": ridge_cv, \"LassoCV\": lasso_cv}.items():\n",
    "    y_pred = model.predict(X_test)\n",
    "    print(f\"{name} Best Alpha: {model.alpha_}\")\n",
    "    print(f\"{name} R²: {r2_score(y_test, y_pred):.3f}\")\n",
    "    print(f\"{name} MSE: {mean_squared_error(y_test, y_pred):.3f}\\n\")\n"
   ]
  },
  {
   "cell_type": "code",
   "execution_count": 8,
   "id": "b8808925-a78b-4df6-b083-182047649759",
   "metadata": {},
   "outputs": [
    {
     "name": "stdout",
     "output_type": "stream",
     "text": [
      "Accuracy: 0.9666666666666667\n"
     ]
    }
   ],
   "source": [
    "import numpy as np\n",
    "from sklearn.datasets import load_iris\n",
    "from sklearn.model_selection import train_test_split\n",
    "from sklearn.preprocessing import StandardScaler\n",
    "from sklearn.metrics import accuracy_score\n",
    "\n",
    "# Load dataset\n",
    "data = load_iris()\n",
    "X, y = data.data, data.target\n",
    "\n",
    "# Scale features\n",
    "scaler = StandardScaler()\n",
    "X = scaler.fit_transform(X)\n",
    "\n",
    "# Split data\n",
    "X_train, X_test, y_train, y_test = train_test_split(X, y, test_size=0.2, random_state=42)\n",
    "\n",
    "# Sigmoid function\n",
    "def sigmoid(z):\n",
    "    return 1 / (1 + np.exp(-z))\n",
    "\n",
    "# One-vs-Rest Logistic Regression (manual implementation)\n",
    "def one_vs_rest(X, y, num_classes, lr=0.1, epochs=1000):\n",
    "    m, n = X.shape\n",
    "    W = np.zeros((num_classes, n))\n",
    "    b = np.zeros(num_classes)\n",
    "    \n",
    "    for c in range(num_classes):\n",
    "        y_c = np.where(y == c, 1, 0)\n",
    "        for _ in range(epochs):\n",
    "            z = X.dot(W[c]) + b[c]\n",
    "            h = sigmoid(z)\n",
    "            W[c] -= lr * (1/m) * X.T.dot(h - y_c)\n",
    "            b[c] -= lr * (1/m) * np.sum(h - y_c)\n",
    "    return W, b\n",
    "\n",
    "# Predict function\n",
    "def predict(X, W, b):\n",
    "    z = X.dot(W.T) + b\n",
    "    probs = sigmoid(z)\n",
    "    return np.argmax(probs, axis=1)\n",
    "\n",
    "# Train model\n",
    "num_classes = len(np.unique(y))\n",
    "W, b = one_vs_rest(X_train, y_train, num_classes)\n",
    "\n",
    "# Test model\n",
    "y_pred = predict(X_test, W, b)\n",
    "print(\"Accuracy:\", accuracy_score(y_test, y_pred))\n"
   ]
  },
  {
   "cell_type": "code",
   "execution_count": null,
   "id": "852771dd-f31b-444e-8a04-c9a0a2402c71",
   "metadata": {},
   "outputs": [],
   "source": []
  }
 ],
 "metadata": {
  "kernelspec": {
   "display_name": "Python 3 (ipykernel)",
   "language": "python",
   "name": "python3"
  },
  "language_info": {
   "codemirror_mode": {
    "name": "ipython",
    "version": 3
   },
   "file_extension": ".py",
   "mimetype": "text/x-python",
   "name": "python",
   "nbconvert_exporter": "python",
   "pygments_lexer": "ipython3",
   "version": "3.13.9"
  }
 },
 "nbformat": 4,
 "nbformat_minor": 5
}
